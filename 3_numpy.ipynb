{
  "nbformat": 4,
  "nbformat_minor": 0,
  "metadata": {
    "colab": {
      "private_outputs": true,
      "provenance": [],
      "authorship_tag": "ABX9TyNsHceE5obfuYW6vvmW/N/G",
      "include_colab_link": true
    },
    "kernelspec": {
      "name": "python3",
      "display_name": "Python 3"
    },
    "language_info": {
      "name": "python"
    }
  },
  "cells": [
    {
      "cell_type": "markdown",
      "metadata": {
        "id": "view-in-github",
        "colab_type": "text"
      },
      "source": [
        "<a href=\"https://colab.research.google.com/github/rodzhttp/Analise-de-Vendas-com-Python/blob/main/3_numpy.ipynb\" target=\"_parent\"><img src=\"https://colab.research.google.com/assets/colab-badge.svg\" alt=\"Open In Colab\"/></a>"
      ]
    },
    {
      "cell_type": "code",
      "source": [
        "# Numpy\n",
        "\n",
        "'''\n",
        "Lista, Matriz e Array\n",
        "\n",
        "Lista (list)\n",
        "\n",
        "-Estrutura nativa do Python.\n",
        "-Aceita tipos variados (números, textos, outras listas).\n",
        "-Usada para dados genéricos.\n",
        "\n",
        "Matriz (lista de listas)\n",
        "\n",
        "-Lista dentro de lista (ex: [[1, 2], [3, 4]]).\n",
        "-Representa linhas e colunas, mas não é otimizada para cálculo.\n",
        "\n",
        "Array (numpy.array)\n",
        "\n",
        "-Vem da biblioteca NumPy.\n",
        "-Todos os dados são do mesmo tipo (geralmente numéricos).\n",
        "-Ideal para cálculos rápidos, estatística e ciência de dados.\n",
        "'''"
      ],
      "metadata": {
        "id": "yd80k1hxm9RW"
      },
      "execution_count": null,
      "outputs": []
    },
    {
      "cell_type": "code",
      "source": [
        "import numpy as np\n",
        "import statistics as st"
      ],
      "metadata": {
        "id": "vqs6wHO4kP7m"
      },
      "execution_count": null,
      "outputs": []
    },
    {
      "cell_type": "code",
      "source": [
        "# Gerando um Array de numeros aleatórios (numeros entre 0 e 1)\n",
        "dados = np.random.rand(4, 3)\n",
        "dados"
      ],
      "metadata": {
        "id": "M3CVjRXwlXU9"
      },
      "execution_count": null,
      "outputs": []
    },
    {
      "cell_type": "code",
      "source": [
        "dados.dtype # Mostrando o tipo dos dados"
      ],
      "metadata": {
        "id": "jcx0F_b_nmbh"
      },
      "execution_count": null,
      "outputs": []
    },
    {
      "cell_type": "code",
      "source": [
        "dados.shape # Mostra o formato (dimensões) de um array."
      ],
      "metadata": {
        "id": "ZfXD4FO7nuh0"
      },
      "execution_count": null,
      "outputs": []
    },
    {
      "cell_type": "code",
      "source": [
        "dados.ndim # Mostra o número de dimensões (ou seja, quantas \"camadas\")."
      ],
      "metadata": {
        "id": "AGoYdELYohkF"
      },
      "execution_count": null,
      "outputs": []
    },
    {
      "cell_type": "code",
      "source": [
        "lista = [1,2,3,4,5,6,7,8,9,10]\n",
        "dados2 = np.array(lista)\n",
        "dados2"
      ],
      "metadata": {
        "id": "h1icIM9vonqB"
      },
      "execution_count": null,
      "outputs": []
    },
    {
      "cell_type": "code",
      "source": [
        "lista = [1,2,3,4,5], [6,7,8,9,10]\n",
        "dados2 = np.array(lista)\n",
        "dados2"
      ],
      "metadata": {
        "id": "34hVr_Zfo8m-"
      },
      "execution_count": null,
      "outputs": []
    },
    {
      "cell_type": "markdown",
      "source": [
        "### Você recebeu os dados de temperatura média (em °C) de uma cidade durante os 7 dias da semana. Com base nesses dados, responda:\n",
        "\n",
        "```\n",
        "temperaturas = np.array ([22.5, 24.0, 19.8, 21.4, 23.0, 25.1, 20.7])\n",
        "dias = np.array ([\"Seg\", \"Ter\", \"Qua\", \"Qui\", \"Sex\", \"Sáb\", \"Dom\"])\n",
        "```\n",
        "\n"
      ],
      "metadata": {
        "id": "VKjKCySGt8SX"
      }
    },
    {
      "cell_type": "code",
      "source": [
        "'''Qual foi a temperatura média da semana?'''\n",
        "\n",
        "media = st.mean(temperaturas)\n",
        "print(f\"Média de temperatura:\", round(media, 2),)"
      ],
      "metadata": {
        "id": "UHHb-e0xp4Bo"
      },
      "execution_count": null,
      "outputs": []
    },
    {
      "cell_type": "code",
      "source": [
        "'''Qual foi a temperatura máxima e em que dia ocorreu?'''\n",
        "\n",
        "temp_max = np.max(temperaturas) # Encontra a maior temperatura\n",
        "index_max = np.argmax(temperaturas) # Encontra o índice dessa temperatura\n",
        "dia_max = dias[index_max] # Usa o índice para achar o dia\n",
        "\n",
        "\n",
        "print(f\"A temperatura máxima foi {temp_max}°C e ocorreu no {dia_max}.\")"
      ],
      "metadata": {
        "id": "PWtwtKsrqaWm"
      },
      "execution_count": null,
      "outputs": []
    },
    {
      "cell_type": "code",
      "source": [
        "'''Quais dias tiveram temperatura acima da média?'''\n",
        "\n",
        "dias_acima_media = dias[temperaturas > media]\n",
        "print(dias_acima_media)"
      ],
      "metadata": {
        "id": "O529InSSu0vX"
      },
      "execution_count": null,
      "outputs": []
    },
    {
      "cell_type": "code",
      "source": [
        "'''Crie um novo array com as temperaturas convertidas para Fahrenheit.\n",
        "Fórmula: F = C * 1.8 + 32'''\n",
        "\n",
        "temp_f = (temperaturas * 1.8 + 32)\n",
        "print(temp_f)"
      ],
      "metadata": {
        "id": "nuAbkx2bsosC"
      },
      "execution_count": null,
      "outputs": []
    },
    {
      "cell_type": "code",
      "source": [
        "'''Substitua a temperatura de domingo para 22.0°C e recalcule a média.'''\n",
        "\n",
        "temperaturas2 = np.array ([22.5, 24.0, 19.8, 21.4, 23.0, 25.1, 20.0])\n",
        "media2 = st.mean(temperaturas2)\n",
        "print(f\"Nova média de temperatura:\", round(media2, 2),)"
      ],
      "metadata": {
        "id": "uPhuLdiQvSSq"
      },
      "execution_count": null,
      "outputs": []
    }
  ]
}