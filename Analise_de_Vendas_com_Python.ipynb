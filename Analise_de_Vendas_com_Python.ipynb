{
  "nbformat": 4,
  "nbformat_minor": 0,
  "metadata": {
    "colab": {
      "private_outputs": true,
      "provenance": [],
      "toc_visible": true
    },
    "kernelspec": {
      "name": "python3",
      "display_name": "Python 3"
    },
    "language_info": {
      "name": "python"
    }
  },
  "cells": [
    {
      "cell_type": "markdown",
      "source": [
        "#Analise de Vendas com Python\n",
        "- Percorrer e filtrar todos os arquivos de vendas\n",
        "- Importar base de dados\n",
        "- Calcular o produto mais vendido em quantidade\n",
        "- Calcular o produto com mais faturamento\n",
        "- Calcular a loja que mais vendeu (em faturamento) / criar um grafico"
      ],
      "metadata": {
        "id": "sYNjmWKcKf6K"
      }
    },
    {
      "cell_type": "code",
      "execution_count": null,
      "metadata": {
        "id": "G44Lrcxzr8n2"
      },
      "outputs": [],
      "source": [
        "# Percorrer todos os arquivos da pasta base de dados (vendas)\n",
        "\n",
        "import os\n",
        "import pandas as pd\n",
        "import plotly.express as px\n",
        "\n",
        "lista_arquivos = os.listdir('/content/drive/MyDrive/Colab Notebooks/Analise de Vendas com Python/Vendas')\n",
        "display(lista_arquivos)"
      ]
    },
    {
      "cell_type": "code",
      "source": [
        "# Importar base de dados de vendas (descartar arquivos de devoluções)\n",
        "\n",
        "tabelas = []\n",
        "\n",
        "for arquivo in lista_arquivos:\n",
        "    if \"Vendas\" in arquivo:\n",
        "        tabela = pd.read_csv(f'/content/drive/MyDrive/Colab Notebooks/Analise de Vendas com Python/Vendas/{arquivo}')\n",
        "        tabelas.append(tabela) # adiciona cada DataFrame lido a uma lista.\n",
        "\n",
        "tabela_total = pd.concat(tabelas, ignore_index=True) # junta todos os DataFrames da lista em um só.\n",
        "\n",
        "display(tabela_total) # compila a base de dados"
      ],
      "metadata": {
        "id": "lqWeH8R0xpvS"
      },
      "execution_count": null,
      "outputs": []
    },
    {
      "cell_type": "code",
      "source": [
        "# Calcular o produto mais vendido em quantidade\n",
        "\n",
        "tabela_produtos = tabela_total.groupby('Produto').sum() # agrupando as colunas e somando\n",
        "tabela_produtos = tabela_produtos[['Quantidade Vendida']].sort_values(by=\"Quantidade Vendida\", ascending=False) # filtrando a coluna que vai aparecer / ordenando\n",
        "display(tabela_produtos)"
      ],
      "metadata": {
        "id": "SDxgQ9IMixlx"
      },
      "execution_count": null,
      "outputs": []
    },
    {
      "cell_type": "code",
      "source": [
        "# Calcular o produto que mais faturou\n",
        "\n",
        "tabela_total['Faturamento'] = tabela_total['Quantidade Vendida'] * tabela_total['Preco Unitario'] # cria uma nova coluna chamada 'Faturamento' na tabela tabela_total\n",
        "\n",
        "tabela_faturamento = tabela_total.groupby('Produto').sum() # agrupa as vendas pelo nome do produto (coluna 'Produto') e soma todos os valores numéricos das colunas para cada grupo\n",
        "tabela_faturamento = tabela_faturamento[['Faturamento']].sort_values(by=\"Faturamento\", ascending=False) # ordenação (da loja que mais faturou para a que menos faturou)\n",
        "\n",
        "display(tabela_faturamento)"
      ],
      "metadata": {
        "id": "_72o8ljfll-C"
      },
      "execution_count": null,
      "outputs": []
    },
    {
      "cell_type": "code",
      "source": [
        "# Calcular a loja/cidade que mais vendeu (em faturamento) - criar um grafico/dashboard\n",
        "\n",
        "# tabela faturamento\n",
        "tabela_lojas = tabela_total.groupby('Loja').sum() # agrupa os dados da tabela_total pela coluna 'Loja'.\n",
        "tabela_lojas = tabela_lojas[['Faturamento']] # filtra a tabela tabela_lojas para manter apenas a coluna 'Faturamento'.\n",
        "tabela_lojas = tabela_lojas.sort_values(by='Faturamento', ascending=False) # ordenação (da loja que mais faturou para a que menos faturou)\n",
        "display(tabela_lojas)\n",
        "\n",
        "# grafico com plotly\n",
        "grafico = px.bar(tabela_lojas, x=tabela_lojas.index, y='Faturamento')\n",
        "grafico.show()"
      ],
      "metadata": {
        "id": "usKj2rlnEf2o"
      },
      "execution_count": null,
      "outputs": []
    }
  ]
}